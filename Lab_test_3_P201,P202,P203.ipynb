{
  "cells": [
    {
      "cell_type": "markdown",
      "metadata": {
        "id": "view-in-github",
        "colab_type": "text"
      },
      "source": [
        "<a href=\"https://colab.research.google.com/github/andreasallo/machineLearning/blob/main/Lab_test_3_P201%2CP202%2CP203.ipynb\" target=\"_parent\"><img src=\"https://colab.research.google.com/assets/colab-badge.svg\" alt=\"Open In Colab\"/></a>"
      ]
    },
    {
      "cell_type": "markdown",
      "id": "6e774a6e-f147-4ee7-9b03-2050d0f65dab",
      "metadata": {
        "id": "6e774a6e-f147-4ee7-9b03-2050d0f65dab"
      },
      "source": [
        "# Machine Learning\n",
        "## **Lab Test 2** P201, P202, P203\n",
        "\n",
        "---\n",
        "\n",
        "Full Name:\n",
        "\n",
        "---\n",
        "\n",
        "U-Number:\n",
        "\n",
        "---\n",
        "\n"
      ]
    },
    {
      "cell_type": "markdown",
      "id": "3a8645fc-488e-4ee0-8668-08d0f1fec02d",
      "metadata": {
        "id": "3a8645fc-488e-4ee0-8668-08d0f1fec02d"
      },
      "source": [
        "## **Instructions**\n",
        "\n",
        "# Submission\n",
        "\n",
        "To submit your test, you need to print this file as a pdf and submit **both** the .ipynb and the .pdf to the Aula Global.\n",
        "\n",
        "**Use the task created for your group (Group 2)**.\n",
        "\n",
        "Please use the following file names:\n",
        "\n",
        "* `FULLNAME_UXXXXX_P3.pdf`\n",
        "* `FULLNAME_UXXXXX_P3.ipynb`\n",
        "\n",
        "Where FULLNAME is your full name and UXXXXX is your U-number.\n",
        "\n",
        "**PLEASE MAKE SURE THE .pdf IS READABLE AND CORRESPONDS TO THE TEST.**\n",
        "\n",
        "# Procedure\n",
        "\n",
        "Write the answers in the provided `code` cells.\n",
        "\n",
        "You must use the functions provided at the end of the questions. Feel free to edit them at your convenience. You cannot use ChatGPT or any other LLM. You can use notebooks from previous sessions of seminar and practical sessions.\n",
        "\n",
        "\n",
        "---\n",
        "\n"
      ]
    },
    {
      "cell_type": "markdown",
      "source": [
        "## Decision trees and the Titanic dataset\n",
        "\n",
        "In this test you will be ask to train Decision Tree classifiers on the Titanic dataset. Analyze and run the following code"
      ],
      "metadata": {
        "id": "T1h7WUOmSITh"
      },
      "id": "T1h7WUOmSITh"
    },
    {
      "cell_type": "code",
      "source": [
        "import numpy as np\n",
        "import pandas as pd\n",
        "\n",
        "!wget https://raw.githubusercontent.com/aig-upf/public-ml-course-undergrads/main/data_train.csv\n",
        "\n",
        "train = pd.read_csv('data_train.csv')\n",
        "\n",
        "# Preprocessing step 1\n",
        "df = train.loc[:,['Pclass', 'Gender', 'Age', 'Fare','Embarked','Survived']]\n",
        "df.head()\n",
        "\n",
        "# Preprocessing step 2\n",
        "df.Age.fillna(df.Age.mean(),inplace=True)\n",
        "df.Embarked.fillna(df.Embarked.loc[df.Embarked.value_counts().argmax()], inplace=True)\n",
        "df.isna().sum()\n",
        "\n",
        "# Preprocessing step 3: Passenger class\n",
        "Pclass = df.Pclass.values / 3\n",
        "Pclass_enc = Pclass.reshape(-1,1)\n",
        "\n",
        "# Preprocessing step 4: Gender\n",
        "Gender = df.Gender.values\n",
        "Gender_enc = np.stack([Gender == 'man', Gender =='woman'], axis=1).astype('float')\n",
        "\n",
        "# Preprocessing step 5: Port of Embarkation\n",
        "embarked = df.Embarked.values\n",
        "labels = np.unique(embarked)\n",
        "embarked_enc = np.zeros((len(embarked), len(labels)))\n",
        "for i, l in enumerate(labels):\n",
        "    embarked_enc[:,i] = embarked == l\n",
        "embarked_enc = embarked_enc.astype('float')\n",
        "\n",
        "#################################################################\n",
        "X = df.loc[:,['Age', 'Fare']].values\n",
        "X = np.hstack([X, Pclass_enc, Gender_enc, embarked_enc])\n",
        "y = df.loc[:,'Survived'].values\n",
        "\n",
        "print(y.shape)\n",
        "print(X.shape)\n",
        "\n",
        "feature_names = ['Age', 'Fare', 'Pclass', 'Man?', 'Woman?', 'Embarked C?', 'Embarked Q?', 'Embarked S?']\n",
        "target_names = ['NO','YES']"
      ],
      "metadata": {
        "id": "Ehm7i2D7VFja"
      },
      "id": "Ehm7i2D7VFja",
      "execution_count": null,
      "outputs": []
    },
    {
      "cell_type": "markdown",
      "source": [
        "**QUESTION 1:** Describe brielfy (one line) each of the previous precrocessing steps:"
      ],
      "metadata": {
        "id": "7Lij10owk3eo"
      },
      "id": "7Lij10owk3eo"
    },
    {
      "cell_type": "code",
      "source": [
        "# Preprocessing step 1: selection of relevant features\n",
        "# Preprocessing step 2: ... YOUR ANSWER\n",
        "# Preprocessing step 3: ... YOUR ANSWER\n",
        "# Preprocessing step 4: ... YOUR ANSWER\n",
        "# Preprocessing step 5: ... YOUR ANSWER\n"
      ],
      "metadata": {
        "id": "J4u-fJ0Pl7l_"
      },
      "id": "J4u-fJ0Pl7l_",
      "execution_count": null,
      "outputs": []
    },
    {
      "cell_type": "markdown",
      "source": [
        "**QUESTION 2:** Split data into training and validation sets using train_test_split function (use 80% for training and 20% for validation). Print using the `print` command **the shape** of the training set and **the shape** of the validation test"
      ],
      "metadata": {
        "id": "0krN6_h-mTzO"
      },
      "id": "0krN6_h-mTzO"
    },
    {
      "cell_type": "code",
      "source": [
        "from sklearn.model_selection import train_test_split\n",
        "# YOUR ANSWER\n",
        "\n",
        "\n"
      ],
      "metadata": {
        "id": "8V3Q1DMSa9l0"
      },
      "id": "8V3Q1DMSa9l0",
      "execution_count": null,
      "outputs": []
    },
    {
      "cell_type": "markdown",
      "source": [
        "**QUESTION 3:** Use the training set, train a decision tree classifier using the **entropy** for splitting criterion and the following hyper-parameters: maximum depth of $5$, minimum samples for split of $20$, and minimum samples for a leaf of $20$."
      ],
      "metadata": {
        "id": "xryZBQf0m-3G"
      },
      "id": "xryZBQf0m-3G"
    },
    {
      "cell_type": "code",
      "source": [
        "from sklearn.tree import DecisionTreeClassifier, plot_tree\n",
        "# YOUR ANSWER\n",
        "\n",
        "\n"
      ],
      "metadata": {
        "id": "GGcX7ohlmgPX"
      },
      "id": "GGcX7ohlmgPX",
      "execution_count": null,
      "outputs": []
    },
    {
      "cell_type": "markdown",
      "source": [
        "**QUESTION 4:** Visualize the obtained classifier and interpret the result answering the questions indicated below:"
      ],
      "metadata": {
        "id": "Wvd_Z0mQndId"
      },
      "id": "Wvd_Z0mQndId"
    },
    {
      "cell_type": "code",
      "source": [
        "from graphviz import Source\n",
        "from sklearn import tree, metrics\n",
        "# YOUR ANSWER\n",
        "\n",
        "\n",
        "\n",
        "\n",
        "\n",
        "\n",
        "\n",
        "\n",
        "\n",
        "\n",
        "\n",
        "\n",
        "\n",
        "\n",
        "\n",
        "\n",
        "\n",
        "\n",
        "\n",
        "\n",
        "\n",
        "\n",
        "\n",
        "\n",
        "\n",
        "\n",
        "\n",
        "\n",
        "\n",
        "\n",
        "\n",
        "\n",
        "\n",
        "\n",
        "\n",
        "\n",
        "\n",
        "\n",
        "\n",
        "\n",
        "\n",
        "\n",
        "\n",
        "\n",
        "\n",
        "\n",
        "\n",
        "\n",
        "\n",
        "\n",
        "\n",
        "\n",
        "# For the interpretation, consider answering (at least) these questions:\n",
        "# What variable is the most relevant to make the first split and why?\n",
        "# ... YOUR ANSWER\n",
        "# Do all the branches reach the maximum depth? If not, why not?\n",
        "# ... YOUR ANSWER\n",
        "# Do leaves contain only data from one class? Why not?\n",
        "# ... YOUR ANSWER\n",
        "# Outline the prediction made for a man, with 22 years, with passenger fare of 7.2, who embarked in Cherbourg\n",
        "# ... YOUR ANSWER"
      ],
      "metadata": {
        "id": "PxP3S8VxdJ11"
      },
      "id": "PxP3S8VxdJ11",
      "execution_count": null,
      "outputs": []
    },
    {
      "cell_type": "markdown",
      "source": [
        "**QUESTION 5:** Execute the prediction for the validation dataset and calculate the *confusion matrix*, *accuracy* and *classification report*. Interpret the results: how many examples are incorrectly classified and from which class?"
      ],
      "metadata": {
        "id": "lIZYPDjK11yt"
      },
      "id": "lIZYPDjK11yt"
    },
    {
      "cell_type": "code",
      "source": [
        "from sklearn.metrics import confusion_matrix, accuracy_score, classification_report\n",
        "# ... YOUR ANSWER\n",
        "\n",
        "\n",
        "\n",
        "\n",
        "\n"
      ],
      "metadata": {
        "id": "do_ap969injq"
      },
      "id": "do_ap969injq",
      "execution_count": null,
      "outputs": []
    },
    {
      "cell_type": "markdown",
      "source": [
        "**QUESTION 6:** Repeat the previous steps (inlcuding the training, visualization and interpretation, and the predictions) but setting `max_depth=3` as hyper-parameter.\n",
        "1.   What differences do you observe and why between the two trees regarding their performance on the validation set?\n",
        "2.   How can you explain these differences?"
      ],
      "metadata": {
        "id": "k7-EaHO318os"
      },
      "id": "k7-EaHO318os"
    },
    {
      "cell_type": "code",
      "source": [
        "# ... YOUR ANSWER\n",
        "\n",
        "\n",
        "\n",
        "\n",
        "\n",
        "\n",
        "\n",
        "\n",
        "\n",
        "\n",
        "\n",
        "\n",
        "\n",
        "\n",
        "\n",
        "\n",
        "\n",
        "\n",
        "\n"
      ],
      "metadata": {
        "id": "mtExsJ_F2ftW"
      },
      "id": "mtExsJ_F2ftW",
      "execution_count": null,
      "outputs": []
    }
  ],
  "metadata": {
    "kernelspec": {
      "display_name": "Python [conda env:crystal_clear]",
      "language": "python",
      "name": "conda-env-crystal_clear-py"
    },
    "language_info": {
      "codemirror_mode": {
        "name": "ipython",
        "version": 3
      },
      "file_extension": ".py",
      "mimetype": "text/x-python",
      "name": "python",
      "nbconvert_exporter": "python",
      "pygments_lexer": "ipython3",
      "version": "3.9.16"
    },
    "colab": {
      "provenance": [],
      "include_colab_link": true
    }
  },
  "nbformat": 4,
  "nbformat_minor": 5
}