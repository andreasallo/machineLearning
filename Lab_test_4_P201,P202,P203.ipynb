{
  "cells": [
    {
      "cell_type": "markdown",
      "metadata": {
        "id": "view-in-github",
        "colab_type": "text"
      },
      "source": [
        "<a href=\"https://colab.research.google.com/github/andreasallo/machineLearning/blob/main/Lab_test_4_P201%2CP202%2CP203.ipynb\" target=\"_parent\"><img src=\"https://colab.research.google.com/assets/colab-badge.svg\" alt=\"Open In Colab\"/></a>"
      ]
    },
    {
      "cell_type": "markdown",
      "source": [
        "# Machine Learning\n",
        "## **Lab Test 4** P201, P202, P203\n",
        "\n",
        "---\n",
        "\n",
        "Full Name:\n",
        "\n",
        "---\n",
        "\n",
        "U-Number:\n",
        "\n",
        "---"
      ],
      "metadata": {
        "id": "AsokDhC22d4a"
      }
    },
    {
      "cell_type": "markdown",
      "source": [
        "## **Instructions**\n",
        "\n",
        "# Submission\n",
        "\n",
        "To submit your test, you need to print this file as a pdf and submit **both** the .ipynb and the .pdf to the Aula Global.\n",
        "\n",
        "**Use the task created for your group (Group 2)**.\n",
        "\n",
        "Please use the following file names (**DO NOT ZIP THE FILES**):\n",
        "\n",
        "* `FULLNAME_UXXXXX_P6.pdf`\n",
        "* `FULLNAME_UXXXXX_P6.ipynb`\n",
        "\n",
        "Where FULLNAME is your full name and UXXXXX is your U-number.\n",
        "\n",
        "**PLEASE MAKE SURE THE .pdf IS READABLE AND CORRESPONDS TO THE TEST.**\n",
        "\n",
        "# Procedure\n",
        "\n",
        "Write the answers in the provided `code` cells.\n",
        "\n",
        "You cannot use ChatGPT or any other LLM. You are only allowed to use the `scikit-learn` documentation and the notebooks from previous sessions of seminar and practical sessions.\n",
        "\n",
        "\n",
        "---"
      ],
      "metadata": {
        "id": "awzTgJBJ2kNI"
      }
    },
    {
      "cell_type": "markdown",
      "source": [
        "# Part 2: $k$-means\n",
        "\n",
        "$k$-means is an iterative clustering algorithm used to partition a dataset into k distinct clusters. It operates by iteratively assigning data points to the nearest cluster centroid and updating the centroid positions based on the newly assigned points. The algorithm aims to minimize the sum of squared distances between data points and their assigned centroids, effectively grouping similar data points together and separating dissimilar ones."
      ],
      "metadata": {
        "id": "Zk0KNUX3LB66"
      }
    },
    {
      "cell_type": "markdown",
      "source": [
        "## Reminders"
      ],
      "metadata": {
        "id": "8KI5BNlALICB"
      }
    },
    {
      "cell_type": "markdown",
      "source": [
        "The ``k-means`` algorithm goes as follows:\n",
        "\n",
        "1. **Initialization**: initialize the cluster centroids randomly or by selecting k data points as initial centroids.\n",
        "\n",
        "2. **Repeat until convergence**: \\\\\n",
        "    a. Assign each data point to the nearest centroid based on Euclidean distance. \\\\\n",
        "    b. Verify if convergence is reached by checking if the assignments changed (or if the maximum number of iterations is reached). \\\\\n",
        "    c. Update the centroids by calculating the mean of all points assigned to each centroid.\n",
        "\n",
        "3. **Return** the assignments and the centroids.\n",
        "\n",
        "In the k-means algorithm, the choice of initial centroids can influence the final clustering result, and the algorithm may converge to local optima. Multiple runs with different initializations or employing techniques like k-means++ initialization can help mitigate this issue."
      ],
      "metadata": {
        "id": "yRavuUMuLJbd"
      }
    },
    {
      "cell_type": "markdown",
      "source": [
        "## Implementation of $k$-means"
      ],
      "metadata": {
        "id": "dNrSxvymLErK"
      }
    },
    {
      "cell_type": "code",
      "source": [
        "import numpy as np\n",
        "import matplotlib.pyplot as plt"
      ],
      "metadata": {
        "id": "zTLNkZyC29ig"
      },
      "execution_count": null,
      "outputs": []
    },
    {
      "cell_type": "markdown",
      "source": [
        "**Question 1**. Implement the $k$-means algorithm by filling the code below."
      ],
      "metadata": {
        "id": "bp1YWG73i-qs"
      }
    },
    {
      "cell_type": "code",
      "source": [
        "# Your code here.\n",
        "# kmeans(X, k)\n",
        "def kmeans(X, k):\n",
        "  \"\"\"\n",
        "  Compute a clustering using the k-means algorithm with random initialization.\n",
        "\n",
        "  Parameters\n",
        "  ----------\n",
        "  X: ndarray, shape (n, p)\n",
        "    The dataset to be clustered.\n",
        "    n == number of points in the dataset.\n",
        "    p == number of features.\n",
        "\n",
        "\n",
        "  k: int\n",
        "    Number of clusters to be computed.\n",
        "\n",
        "  Returns\n",
        "  -------\n",
        "  assignments: ndarray, shape (n,)\n",
        "    Cluster assignment for every point in the dataset. The value at position i\n",
        "    gives the cluster number of the data point i.\n",
        "\n",
        "  centroids: ndarray, shape (k, p)\n",
        "    Centroids for the clusters. The ith row is the centroid of cluster i.\n",
        "  \"\"\"\n",
        "\n",
        "  n, p = X.shape\n",
        "\n",
        "  assignments = np.zeros(n)\n",
        "\n",
        "  # Random initialization for the centroids (choose k points of the dataset)\n",
        "  # You can use the function np.random.choice\n",
        "  # YOUR CODE HERE\n",
        "\n",
        "\n",
        "\n",
        "\n",
        "  while True:\n",
        "    # Step 1: assign clusters\n",
        "    # YOUR CODE HERE\n",
        "\n",
        "\n",
        "\n",
        "\n",
        "\n",
        "    # Step 2: verify if the algorithm converged\n",
        "    # YOUR CODE HERE\n",
        "\n",
        "\n",
        "\n",
        "\n",
        "\n",
        "    # Step 3: update centroids\n",
        "    # YOUR CODE HERE\n"
      ],
      "metadata": {
        "id": "1pbAxb5qN7TO"
      },
      "execution_count": null,
      "outputs": []
    },
    {
      "cell_type": "markdown",
      "source": [
        "## Application"
      ],
      "metadata": {
        "id": "jvSMvD11N7nK"
      }
    },
    {
      "cell_type": "markdown",
      "source": [
        "### Example 1 with your own $k$-means"
      ],
      "metadata": {
        "id": "o2eF0djPimU7"
      }
    },
    {
      "cell_type": "code",
      "source": [
        "from sklearn.datasets import make_blobs\n",
        "\n",
        "# Create dataset:\n",
        "n_samples = 1500\n",
        "random_state = 20\n",
        "k = 3\n",
        "X, y = make_blobs(n_samples=n_samples, random_state=random_state, centers=k)\n",
        "\n",
        "print(f'Size of the dataset: {X.shape}')\n",
        "\n",
        "# Plot generated points:\n",
        "plt.figure()\n",
        "plt.title('Dataset')\n",
        "plt.scatter(X[:, 0], X[:, 1])"
      ],
      "metadata": {
        "id": "ZIKK6E1mOOXk"
      },
      "execution_count": null,
      "outputs": []
    },
    {
      "cell_type": "markdown",
      "source": [
        "**Question 2**. Apply the ``kmeans`` function you implemented to the dataset from the previous cell, and plot the result. Modify the random state and comment the new results."
      ],
      "metadata": {
        "id": "XdoLvmYGjLLb"
      }
    },
    {
      "cell_type": "code",
      "source": [
        "# Compute the assignments and centroids with the function kmeans\n",
        "# YOUR CODE HERE\n",
        "\n",
        "\n",
        "# Plot the result\n",
        "# YOUR CODE HERE\n"
      ],
      "metadata": {
        "id": "RXRsJ1HBOS9E"
      },
      "execution_count": null,
      "outputs": []
    },
    {
      "cell_type": "markdown",
      "source": [
        "When using k-means, the initialization matters. Depending on how the centroids are first chosen, the clustering may change."
      ],
      "metadata": {
        "id": "EEnXjcM2OZLD"
      }
    },
    {
      "cell_type": "markdown",
      "source": [
        "### Example 2: $k$-means with ``scikit-learn``"
      ],
      "metadata": {
        "id": "PPqMU-U4itfP"
      }
    },
    {
      "cell_type": "code",
      "source": [
        "from sklearn.cluster import KMeans\n",
        "from sklearn.datasets import make_blobs\n",
        "\n",
        "# Create dataset:\n",
        "n_samples = 1500\n",
        "random_state = 20\n",
        "k = 4\n",
        "X, y = make_blobs(n_samples=n_samples, random_state=random_state, centers=k)\n",
        "\n",
        "# Plot generated points:\n",
        "fig = plt.figure(figsize=(5, 5))\n",
        "plt.scatter(X[:, 0], X[:, 1])\n",
        "plt.title('Dataset')\n",
        "plt.xlabel('x_1')\n",
        "plt.ylabel('x_2')\n",
        "plt.show()"
      ],
      "metadata": {
        "id": "w12wQ-8DOZ9e"
      },
      "execution_count": null,
      "outputs": []
    },
    {
      "cell_type": "markdown",
      "source": [
        "**Question 3**. Apply the ``KMeans`` function from ``scikit-learn`` with different numbers of clusters, $k \\in \\{ 2, 4, 6 \\}$. Plot and explain the results."
      ],
      "metadata": {
        "id": "HwFcwbUei60G"
      }
    },
    {
      "cell_type": "code",
      "source": [
        "fig, axs = plt.subplots(1,3, figsize=(15, 5))\n",
        "for k, ax in zip([2, 4, 6], axs):\n",
        "  # YOUR CODE HERE\n",
        "\n",
        "\n",
        "  ax.set_xlabel('x_1')\n",
        "  ax.set_ylabel('x_2')\n",
        "  ax.set_title(f'Predicted clusters k = {k}')\n",
        "  ax.legend()\n",
        "plt.show()"
      ],
      "metadata": {
        "id": "s-TUR-fMQV_7"
      },
      "execution_count": null,
      "outputs": []
    },
    {
      "cell_type": "markdown",
      "source": [
        "Consider now the following dataset:"
      ],
      "metadata": {
        "id": "uTcylX3dQaXN"
      }
    },
    {
      "cell_type": "code",
      "source": [
        "X_varied, y_varied = make_blobs(n_samples=n_samples,\n",
        "                                cluster_std=[1.0, 2.5, 0.5],\n",
        "                                random_state=random_state)\n",
        "\n",
        "fig = plt.figure(figsize=(5, 5))\n",
        "plt.scatter(X_varied[:, 0], X_varied[:, 1])\n",
        "plt.title('Transformed dataset')\n",
        "plt.xlabel('x_1')\n",
        "plt.ylabel('x_2')\n",
        "plt.show()"
      ],
      "metadata": {
        "id": "-7VqP0iwQbCu"
      },
      "execution_count": null,
      "outputs": []
    },
    {
      "cell_type": "markdown",
      "source": [
        "**Question 4**. Perform clustering on this new dataset. What do you observe? Why?"
      ],
      "metadata": {
        "id": "OZ7xgvZTQhe8"
      }
    },
    {
      "cell_type": "code",
      "source": [
        "# YOUR CODE HERE\n",
        "\n",
        "\n",
        "\n",
        "\n",
        "\n",
        "\n",
        "\n",
        "\n",
        "\n",
        "\n"
      ],
      "metadata": {
        "id": "iv5aJeTrQiO8"
      },
      "execution_count": null,
      "outputs": []
    }
  ],
  "metadata": {
    "colab": {
      "provenance": [],
      "include_colab_link": true
    },
    "kernelspec": {
      "display_name": "Python 3",
      "name": "python3"
    },
    "language_info": {
      "name": "python"
    }
  },
  "nbformat": 4,
  "nbformat_minor": 0
}